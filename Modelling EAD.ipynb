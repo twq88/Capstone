{
 "cells": [
  {
   "cell_type": "markdown",
   "metadata": {},
   "source": [
    "# Import Libraries"
   ]
  },
  {
   "cell_type": "code",
   "execution_count": 1,
   "metadata": {},
   "outputs": [],
   "source": [
    "import numpy as np\n",
    "import pandas as pd\n",
    "from sklearn.model_selection import train_test_split, cross_val_score, cross_val_predict,GridSearchCV,StratifiedKFold\n",
    "from sklearn.preprocessing import StandardScaler, PolynomialFeatures\n",
    "\n",
    "pd.options.display.max_columns = None\n",
    "\n",
    "import warnings\n",
    "warnings.filterwarnings('ignore')"
   ]
  },
  {
   "cell_type": "markdown",
   "metadata": {},
   "source": [
    "# Import Data"
   ]
  },
  {
   "cell_type": "code",
   "execution_count": 2,
   "metadata": {},
   "outputs": [],
   "source": [
    "# Import data.\n",
    "loan_data = pd.read_csv('loan_data_clean.csv', index_col = 0)\n",
    "loan_data.drop(['issue_d'], axis = 1, inplace = True)"
   ]
  },
  {
   "cell_type": "code",
   "execution_count": 3,
   "metadata": {},
   "outputs": [],
   "source": [
    "loan_data_defaults = loan_data[loan_data['loan_status'].isin(['Charged Off','Does not meet the credit policy. Status:Charged Off'])]\n",
    "# Here we take only the accounts that were charged-off (written-off)."
   ]
  },
  {
   "cell_type": "code",
   "execution_count": 4,
   "metadata": {
    "scrolled": false
   },
   "outputs": [
    {
     "data": {
      "text/plain": [
       "(41962, 48)"
      ]
     },
     "execution_count": 4,
     "metadata": {},
     "output_type": "execute_result"
    }
   ],
   "source": [
    "loan_data_defaults.shape"
   ]
  },
  {
   "cell_type": "code",
   "execution_count": 5,
   "metadata": {},
   "outputs": [
    {
     "data": {
      "text/html": [
       "<div>\n",
       "<style scoped>\n",
       "    .dataframe tbody tr th:only-of-type {\n",
       "        vertical-align: middle;\n",
       "    }\n",
       "\n",
       "    .dataframe tbody tr th {\n",
       "        vertical-align: top;\n",
       "    }\n",
       "\n",
       "    .dataframe thead th {\n",
       "        text-align: right;\n",
       "    }\n",
       "</style>\n",
       "<table border=\"1\" class=\"dataframe\">\n",
       "  <thead>\n",
       "    <tr style=\"text-align: right;\">\n",
       "      <th></th>\n",
       "      <th>loan_amnt</th>\n",
       "      <th>funded_amnt</th>\n",
       "      <th>term</th>\n",
       "      <th>int_rate</th>\n",
       "      <th>installment</th>\n",
       "      <th>emp_length</th>\n",
       "      <th>annual_inc</th>\n",
       "      <th>loan_status</th>\n",
       "      <th>dti</th>\n",
       "      <th>open_acc</th>\n",
       "      <th>pub_rec</th>\n",
       "      <th>revol_util</th>\n",
       "      <th>total_acc</th>\n",
       "      <th>total_rec_prncp</th>\n",
       "      <th>recoveries</th>\n",
       "      <th>mths_since_earliest_cr_line</th>\n",
       "      <th>mths_since_issue_d</th>\n",
       "      <th>good_bad</th>\n",
       "      <th>grade_B</th>\n",
       "      <th>grade_C</th>\n",
       "      <th>grade_D</th>\n",
       "      <th>grade_E</th>\n",
       "      <th>grade_F</th>\n",
       "      <th>grade_G</th>\n",
       "      <th>sub_grade_2</th>\n",
       "      <th>sub_grade_3</th>\n",
       "      <th>sub_grade_4</th>\n",
       "      <th>sub_grade_5</th>\n",
       "      <th>purpose_credit_card</th>\n",
       "      <th>purpose_debt_consolidation</th>\n",
       "      <th>purpose_educational</th>\n",
       "      <th>purpose_home_improvement</th>\n",
       "      <th>purpose_house</th>\n",
       "      <th>purpose_major_purchase</th>\n",
       "      <th>purpose_medical</th>\n",
       "      <th>purpose_moving</th>\n",
       "      <th>purpose_other</th>\n",
       "      <th>purpose_renewable_energy</th>\n",
       "      <th>purpose_small_business</th>\n",
       "      <th>purpose_vacation</th>\n",
       "      <th>purpose_wedding</th>\n",
       "      <th>home_ownership_MORTGAGE</th>\n",
       "      <th>home_ownership_NONE</th>\n",
       "      <th>home_ownership_OTHER</th>\n",
       "      <th>home_ownership_OWN</th>\n",
       "      <th>home_ownership_RENT</th>\n",
       "      <th>verification_status_Source Verified</th>\n",
       "      <th>verification_status_Verified</th>\n",
       "    </tr>\n",
       "  </thead>\n",
       "  <tbody>\n",
       "    <tr>\n",
       "      <th>1</th>\n",
       "      <td>2500</td>\n",
       "      <td>2500</td>\n",
       "      <td>60</td>\n",
       "      <td>15.27</td>\n",
       "      <td>59.83</td>\n",
       "      <td>0</td>\n",
       "      <td>30000.0</td>\n",
       "      <td>Charged Off</td>\n",
       "      <td>1.00</td>\n",
       "      <td>3.0</td>\n",
       "      <td>0.0</td>\n",
       "      <td>9.4</td>\n",
       "      <td>4.0</td>\n",
       "      <td>456.46</td>\n",
       "      <td>117.08</td>\n",
       "      <td>224.0</td>\n",
       "      <td>72.0</td>\n",
       "      <td>0</td>\n",
       "      <td>0</td>\n",
       "      <td>1</td>\n",
       "      <td>0</td>\n",
       "      <td>0</td>\n",
       "      <td>0</td>\n",
       "      <td>0</td>\n",
       "      <td>0</td>\n",
       "      <td>0</td>\n",
       "      <td>1</td>\n",
       "      <td>0</td>\n",
       "      <td>0</td>\n",
       "      <td>0</td>\n",
       "      <td>0</td>\n",
       "      <td>0</td>\n",
       "      <td>0</td>\n",
       "      <td>0</td>\n",
       "      <td>0</td>\n",
       "      <td>0</td>\n",
       "      <td>0</td>\n",
       "      <td>0</td>\n",
       "      <td>0</td>\n",
       "      <td>0</td>\n",
       "      <td>0</td>\n",
       "      <td>0</td>\n",
       "      <td>0</td>\n",
       "      <td>0</td>\n",
       "      <td>0</td>\n",
       "      <td>1</td>\n",
       "      <td>1</td>\n",
       "      <td>0</td>\n",
       "    </tr>\n",
       "    <tr>\n",
       "      <th>8</th>\n",
       "      <td>5600</td>\n",
       "      <td>5600</td>\n",
       "      <td>60</td>\n",
       "      <td>21.28</td>\n",
       "      <td>152.39</td>\n",
       "      <td>4</td>\n",
       "      <td>40000.0</td>\n",
       "      <td>Charged Off</td>\n",
       "      <td>5.55</td>\n",
       "      <td>11.0</td>\n",
       "      <td>0.0</td>\n",
       "      <td>32.6</td>\n",
       "      <td>13.0</td>\n",
       "      <td>162.02</td>\n",
       "      <td>189.06</td>\n",
       "      <td>164.0</td>\n",
       "      <td>72.0</td>\n",
       "      <td>0</td>\n",
       "      <td>0</td>\n",
       "      <td>0</td>\n",
       "      <td>0</td>\n",
       "      <td>0</td>\n",
       "      <td>1</td>\n",
       "      <td>0</td>\n",
       "      <td>1</td>\n",
       "      <td>0</td>\n",
       "      <td>0</td>\n",
       "      <td>0</td>\n",
       "      <td>0</td>\n",
       "      <td>0</td>\n",
       "      <td>0</td>\n",
       "      <td>0</td>\n",
       "      <td>0</td>\n",
       "      <td>0</td>\n",
       "      <td>0</td>\n",
       "      <td>0</td>\n",
       "      <td>0</td>\n",
       "      <td>0</td>\n",
       "      <td>1</td>\n",
       "      <td>0</td>\n",
       "      <td>0</td>\n",
       "      <td>0</td>\n",
       "      <td>0</td>\n",
       "      <td>0</td>\n",
       "      <td>1</td>\n",
       "      <td>0</td>\n",
       "      <td>1</td>\n",
       "      <td>0</td>\n",
       "    </tr>\n",
       "    <tr>\n",
       "      <th>9</th>\n",
       "      <td>5375</td>\n",
       "      <td>5375</td>\n",
       "      <td>60</td>\n",
       "      <td>12.69</td>\n",
       "      <td>121.45</td>\n",
       "      <td>0</td>\n",
       "      <td>15000.0</td>\n",
       "      <td>Charged Off</td>\n",
       "      <td>18.08</td>\n",
       "      <td>2.0</td>\n",
       "      <td>0.0</td>\n",
       "      <td>36.5</td>\n",
       "      <td>3.0</td>\n",
       "      <td>673.48</td>\n",
       "      <td>269.29</td>\n",
       "      <td>159.0</td>\n",
       "      <td>72.0</td>\n",
       "      <td>0</td>\n",
       "      <td>1</td>\n",
       "      <td>0</td>\n",
       "      <td>0</td>\n",
       "      <td>0</td>\n",
       "      <td>0</td>\n",
       "      <td>0</td>\n",
       "      <td>0</td>\n",
       "      <td>0</td>\n",
       "      <td>0</td>\n",
       "      <td>1</td>\n",
       "      <td>0</td>\n",
       "      <td>0</td>\n",
       "      <td>0</td>\n",
       "      <td>0</td>\n",
       "      <td>0</td>\n",
       "      <td>0</td>\n",
       "      <td>0</td>\n",
       "      <td>0</td>\n",
       "      <td>1</td>\n",
       "      <td>0</td>\n",
       "      <td>0</td>\n",
       "      <td>0</td>\n",
       "      <td>0</td>\n",
       "      <td>0</td>\n",
       "      <td>0</td>\n",
       "      <td>0</td>\n",
       "      <td>0</td>\n",
       "      <td>1</td>\n",
       "      <td>0</td>\n",
       "      <td>1</td>\n",
       "    </tr>\n",
       "    <tr>\n",
       "      <th>12</th>\n",
       "      <td>9000</td>\n",
       "      <td>9000</td>\n",
       "      <td>36</td>\n",
       "      <td>13.49</td>\n",
       "      <td>305.38</td>\n",
       "      <td>0</td>\n",
       "      <td>30000.0</td>\n",
       "      <td>Charged Off</td>\n",
       "      <td>10.08</td>\n",
       "      <td>4.0</td>\n",
       "      <td>0.0</td>\n",
       "      <td>91.7</td>\n",
       "      <td>9.0</td>\n",
       "      <td>1256.14</td>\n",
       "      <td>444.30</td>\n",
       "      <td>164.0</td>\n",
       "      <td>72.0</td>\n",
       "      <td>0</td>\n",
       "      <td>0</td>\n",
       "      <td>1</td>\n",
       "      <td>0</td>\n",
       "      <td>0</td>\n",
       "      <td>0</td>\n",
       "      <td>0</td>\n",
       "      <td>0</td>\n",
       "      <td>0</td>\n",
       "      <td>0</td>\n",
       "      <td>0</td>\n",
       "      <td>0</td>\n",
       "      <td>1</td>\n",
       "      <td>0</td>\n",
       "      <td>0</td>\n",
       "      <td>0</td>\n",
       "      <td>0</td>\n",
       "      <td>0</td>\n",
       "      <td>0</td>\n",
       "      <td>0</td>\n",
       "      <td>0</td>\n",
       "      <td>0</td>\n",
       "      <td>0</td>\n",
       "      <td>0</td>\n",
       "      <td>0</td>\n",
       "      <td>0</td>\n",
       "      <td>0</td>\n",
       "      <td>0</td>\n",
       "      <td>1</td>\n",
       "      <td>1</td>\n",
       "      <td>0</td>\n",
       "    </tr>\n",
       "    <tr>\n",
       "      <th>14</th>\n",
       "      <td>10000</td>\n",
       "      <td>10000</td>\n",
       "      <td>36</td>\n",
       "      <td>10.65</td>\n",
       "      <td>325.74</td>\n",
       "      <td>3</td>\n",
       "      <td>100000.0</td>\n",
       "      <td>Charged Off</td>\n",
       "      <td>7.06</td>\n",
       "      <td>14.0</td>\n",
       "      <td>0.0</td>\n",
       "      <td>55.5</td>\n",
       "      <td>29.0</td>\n",
       "      <td>5433.47</td>\n",
       "      <td>645.10</td>\n",
       "      <td>319.0</td>\n",
       "      <td>72.0</td>\n",
       "      <td>0</td>\n",
       "      <td>1</td>\n",
       "      <td>0</td>\n",
       "      <td>0</td>\n",
       "      <td>0</td>\n",
       "      <td>0</td>\n",
       "      <td>0</td>\n",
       "      <td>1</td>\n",
       "      <td>0</td>\n",
       "      <td>0</td>\n",
       "      <td>0</td>\n",
       "      <td>0</td>\n",
       "      <td>0</td>\n",
       "      <td>0</td>\n",
       "      <td>0</td>\n",
       "      <td>0</td>\n",
       "      <td>0</td>\n",
       "      <td>0</td>\n",
       "      <td>0</td>\n",
       "      <td>1</td>\n",
       "      <td>0</td>\n",
       "      <td>0</td>\n",
       "      <td>0</td>\n",
       "      <td>0</td>\n",
       "      <td>0</td>\n",
       "      <td>0</td>\n",
       "      <td>0</td>\n",
       "      <td>0</td>\n",
       "      <td>1</td>\n",
       "      <td>1</td>\n",
       "      <td>0</td>\n",
       "    </tr>\n",
       "  </tbody>\n",
       "</table>\n",
       "</div>"
      ],
      "text/plain": [
       "    loan_amnt  funded_amnt  term  int_rate  installment  emp_length  \\\n",
       "1        2500         2500    60     15.27        59.83           0   \n",
       "8        5600         5600    60     21.28       152.39           4   \n",
       "9        5375         5375    60     12.69       121.45           0   \n",
       "12       9000         9000    36     13.49       305.38           0   \n",
       "14      10000        10000    36     10.65       325.74           3   \n",
       "\n",
       "    annual_inc  loan_status    dti  open_acc  pub_rec  revol_util  total_acc  \\\n",
       "1      30000.0  Charged Off   1.00       3.0      0.0         9.4        4.0   \n",
       "8      40000.0  Charged Off   5.55      11.0      0.0        32.6       13.0   \n",
       "9      15000.0  Charged Off  18.08       2.0      0.0        36.5        3.0   \n",
       "12     30000.0  Charged Off  10.08       4.0      0.0        91.7        9.0   \n",
       "14    100000.0  Charged Off   7.06      14.0      0.0        55.5       29.0   \n",
       "\n",
       "    total_rec_prncp  recoveries  mths_since_earliest_cr_line  \\\n",
       "1            456.46      117.08                        224.0   \n",
       "8            162.02      189.06                        164.0   \n",
       "9            673.48      269.29                        159.0   \n",
       "12          1256.14      444.30                        164.0   \n",
       "14          5433.47      645.10                        319.0   \n",
       "\n",
       "    mths_since_issue_d  good_bad  grade_B  grade_C  grade_D  grade_E  grade_F  \\\n",
       "1                 72.0         0        0        1        0        0        0   \n",
       "8                 72.0         0        0        0        0        0        1   \n",
       "9                 72.0         0        1        0        0        0        0   \n",
       "12                72.0         0        0        1        0        0        0   \n",
       "14                72.0         0        1        0        0        0        0   \n",
       "\n",
       "    grade_G  sub_grade_2  sub_grade_3  sub_grade_4  sub_grade_5  \\\n",
       "1         0            0            0            1            0   \n",
       "8         0            1            0            0            0   \n",
       "9         0            0            0            0            1   \n",
       "12        0            0            0            0            0   \n",
       "14        0            1            0            0            0   \n",
       "\n",
       "    purpose_credit_card  purpose_debt_consolidation  purpose_educational  \\\n",
       "1                     0                           0                    0   \n",
       "8                     0                           0                    0   \n",
       "9                     0                           0                    0   \n",
       "12                    0                           1                    0   \n",
       "14                    0                           0                    0   \n",
       "\n",
       "    purpose_home_improvement  purpose_house  purpose_major_purchase  \\\n",
       "1                          0              0                       0   \n",
       "8                          0              0                       0   \n",
       "9                          0              0                       0   \n",
       "12                         0              0                       0   \n",
       "14                         0              0                       0   \n",
       "\n",
       "    purpose_medical  purpose_moving  purpose_other  purpose_renewable_energy  \\\n",
       "1                 0               0              0                         0   \n",
       "8                 0               0              0                         0   \n",
       "9                 0               0              1                         0   \n",
       "12                0               0              0                         0   \n",
       "14                0               0              1                         0   \n",
       "\n",
       "    purpose_small_business  purpose_vacation  purpose_wedding  \\\n",
       "1                        0                 0                0   \n",
       "8                        1                 0                0   \n",
       "9                        0                 0                0   \n",
       "12                       0                 0                0   \n",
       "14                       0                 0                0   \n",
       "\n",
       "    home_ownership_MORTGAGE  home_ownership_NONE  home_ownership_OTHER  \\\n",
       "1                         0                    0                     0   \n",
       "8                         0                    0                     0   \n",
       "9                         0                    0                     0   \n",
       "12                        0                    0                     0   \n",
       "14                        0                    0                     0   \n",
       "\n",
       "    home_ownership_OWN  home_ownership_RENT  \\\n",
       "1                    0                    1   \n",
       "8                    1                    0   \n",
       "9                    0                    1   \n",
       "12                   0                    1   \n",
       "14                   0                    1   \n",
       "\n",
       "    verification_status_Source Verified  verification_status_Verified  \n",
       "1                                     1                             0  \n",
       "8                                     1                             0  \n",
       "9                                     0                             1  \n",
       "12                                    1                             0  \n",
       "14                                    1                             0  "
      ]
     },
     "execution_count": 5,
     "metadata": {},
     "output_type": "execute_result"
    }
   ],
   "source": [
    "loan_data_defaults.head()"
   ]
  },
  {
   "cell_type": "markdown",
   "metadata": {},
   "source": [
    "# Dependent Variables"
   ]
  },
  {
   "cell_type": "code",
   "execution_count": 6,
   "metadata": {
    "scrolled": true
   },
   "outputs": [],
   "source": [
    "loan_data_defaults['recovery_rate'] = loan_data_defaults['recoveries'] / loan_data_defaults['funded_amnt']\n",
    "# We calculate the dependent variable for the LGD model: recovery rate.\n",
    "# It is the ratio of recoveries and funded amount."
   ]
  },
  {
   "cell_type": "code",
   "execution_count": 7,
   "metadata": {},
   "outputs": [
    {
     "data": {
      "text/plain": [
       "count    41962.000000\n",
       "mean         0.060504\n",
       "std          0.089409\n",
       "min          0.000000\n",
       "25%          0.000000\n",
       "50%          0.028719\n",
       "75%          0.113543\n",
       "max          1.220774\n",
       "Name: recovery_rate, dtype: float64"
      ]
     },
     "execution_count": 7,
     "metadata": {},
     "output_type": "execute_result"
    }
   ],
   "source": [
    "loan_data_defaults['recovery_rate'].describe()\n",
    "# Shows some descriptive statisics for the values of a column."
   ]
  },
  {
   "cell_type": "code",
   "execution_count": 8,
   "metadata": {},
   "outputs": [],
   "source": [
    "loan_data_defaults['recovery_rate'] = np.where(loan_data_defaults['recovery_rate'] > 1, 1, loan_data_defaults['recovery_rate'])\n",
    "loan_data_defaults['recovery_rate'] = np.where(loan_data_defaults['recovery_rate'] < 0, 0, loan_data_defaults['recovery_rate'])\n",
    "# We set recovery rates that are greater than 1 to 1 and recovery rates that are less than 0 to 0."
   ]
  },
  {
   "cell_type": "code",
   "execution_count": 9,
   "metadata": {},
   "outputs": [
    {
     "data": {
      "text/plain": [
       "count    41962.000000\n",
       "mean         0.060457\n",
       "std          0.088883\n",
       "min          0.000000\n",
       "25%          0.000000\n",
       "50%          0.028719\n",
       "75%          0.113543\n",
       "max          1.000000\n",
       "Name: recovery_rate, dtype: float64"
      ]
     },
     "execution_count": 9,
     "metadata": {},
     "output_type": "execute_result"
    }
   ],
   "source": [
    "loan_data_defaults['recovery_rate'].describe()\n",
    "# Shows some descriptive statisics for the values of a column."
   ]
  },
  {
   "cell_type": "code",
   "execution_count": 10,
   "metadata": {},
   "outputs": [],
   "source": [
    "loan_data_defaults['CCF'] = (loan_data_defaults['funded_amnt'] - loan_data_defaults['total_rec_prncp']) / loan_data_defaults['funded_amnt']\n",
    "# We calculate the dependent variable for the EAD model: credit conversion factor.\n",
    "# It is the ratio of the difference of the amount used at the moment of default to the total funded amount."
   ]
  },
  {
   "cell_type": "code",
   "execution_count": 11,
   "metadata": {},
   "outputs": [
    {
     "data": {
      "text/plain": [
       "count    41962.000000\n",
       "mean         0.735334\n",
       "std          0.200873\n",
       "min          0.000438\n",
       "25%          0.630909\n",
       "50%          0.789307\n",
       "75%          0.888206\n",
       "max          1.000000\n",
       "Name: CCF, dtype: float64"
      ]
     },
     "execution_count": 11,
     "metadata": {},
     "output_type": "execute_result"
    }
   ],
   "source": [
    "loan_data_defaults['CCF'].describe()\n",
    "# Shows some descriptive statisics for the values of a column."
   ]
  },
  {
   "cell_type": "code",
   "execution_count": 12,
   "metadata": {},
   "outputs": [
    {
     "data": {
      "text/html": [
       "<div>\n",
       "<style scoped>\n",
       "    .dataframe tbody tr th:only-of-type {\n",
       "        vertical-align: middle;\n",
       "    }\n",
       "\n",
       "    .dataframe tbody tr th {\n",
       "        vertical-align: top;\n",
       "    }\n",
       "\n",
       "    .dataframe thead th {\n",
       "        text-align: right;\n",
       "    }\n",
       "</style>\n",
       "<table border=\"1\" class=\"dataframe\">\n",
       "  <thead>\n",
       "    <tr style=\"text-align: right;\">\n",
       "      <th></th>\n",
       "      <th>loan_amnt</th>\n",
       "      <th>funded_amnt</th>\n",
       "      <th>term</th>\n",
       "      <th>int_rate</th>\n",
       "      <th>installment</th>\n",
       "      <th>emp_length</th>\n",
       "      <th>annual_inc</th>\n",
       "      <th>loan_status</th>\n",
       "      <th>dti</th>\n",
       "      <th>open_acc</th>\n",
       "      <th>pub_rec</th>\n",
       "      <th>revol_util</th>\n",
       "      <th>total_acc</th>\n",
       "      <th>total_rec_prncp</th>\n",
       "      <th>recoveries</th>\n",
       "      <th>mths_since_earliest_cr_line</th>\n",
       "      <th>mths_since_issue_d</th>\n",
       "      <th>good_bad</th>\n",
       "      <th>grade_B</th>\n",
       "      <th>grade_C</th>\n",
       "      <th>grade_D</th>\n",
       "      <th>grade_E</th>\n",
       "      <th>grade_F</th>\n",
       "      <th>grade_G</th>\n",
       "      <th>sub_grade_2</th>\n",
       "      <th>sub_grade_3</th>\n",
       "      <th>sub_grade_4</th>\n",
       "      <th>sub_grade_5</th>\n",
       "      <th>purpose_credit_card</th>\n",
       "      <th>purpose_debt_consolidation</th>\n",
       "      <th>purpose_educational</th>\n",
       "      <th>purpose_home_improvement</th>\n",
       "      <th>purpose_house</th>\n",
       "      <th>purpose_major_purchase</th>\n",
       "      <th>purpose_medical</th>\n",
       "      <th>purpose_moving</th>\n",
       "      <th>purpose_other</th>\n",
       "      <th>purpose_renewable_energy</th>\n",
       "      <th>purpose_small_business</th>\n",
       "      <th>purpose_vacation</th>\n",
       "      <th>purpose_wedding</th>\n",
       "      <th>home_ownership_MORTGAGE</th>\n",
       "      <th>home_ownership_NONE</th>\n",
       "      <th>home_ownership_OTHER</th>\n",
       "      <th>home_ownership_OWN</th>\n",
       "      <th>home_ownership_RENT</th>\n",
       "      <th>verification_status_Source Verified</th>\n",
       "      <th>verification_status_Verified</th>\n",
       "      <th>recovery_rate</th>\n",
       "      <th>CCF</th>\n",
       "    </tr>\n",
       "  </thead>\n",
       "  <tbody>\n",
       "    <tr>\n",
       "      <th>1</th>\n",
       "      <td>2500</td>\n",
       "      <td>2500</td>\n",
       "      <td>60</td>\n",
       "      <td>15.27</td>\n",
       "      <td>59.83</td>\n",
       "      <td>0</td>\n",
       "      <td>30000.0</td>\n",
       "      <td>Charged Off</td>\n",
       "      <td>1.00</td>\n",
       "      <td>3.0</td>\n",
       "      <td>0.0</td>\n",
       "      <td>9.4</td>\n",
       "      <td>4.0</td>\n",
       "      <td>456.46</td>\n",
       "      <td>117.08</td>\n",
       "      <td>224.0</td>\n",
       "      <td>72.0</td>\n",
       "      <td>0</td>\n",
       "      <td>0</td>\n",
       "      <td>1</td>\n",
       "      <td>0</td>\n",
       "      <td>0</td>\n",
       "      <td>0</td>\n",
       "      <td>0</td>\n",
       "      <td>0</td>\n",
       "      <td>0</td>\n",
       "      <td>1</td>\n",
       "      <td>0</td>\n",
       "      <td>0</td>\n",
       "      <td>0</td>\n",
       "      <td>0</td>\n",
       "      <td>0</td>\n",
       "      <td>0</td>\n",
       "      <td>0</td>\n",
       "      <td>0</td>\n",
       "      <td>0</td>\n",
       "      <td>0</td>\n",
       "      <td>0</td>\n",
       "      <td>0</td>\n",
       "      <td>0</td>\n",
       "      <td>0</td>\n",
       "      <td>0</td>\n",
       "      <td>0</td>\n",
       "      <td>0</td>\n",
       "      <td>0</td>\n",
       "      <td>1</td>\n",
       "      <td>1</td>\n",
       "      <td>0</td>\n",
       "      <td>0.046832</td>\n",
       "      <td>0.817416</td>\n",
       "    </tr>\n",
       "    <tr>\n",
       "      <th>8</th>\n",
       "      <td>5600</td>\n",
       "      <td>5600</td>\n",
       "      <td>60</td>\n",
       "      <td>21.28</td>\n",
       "      <td>152.39</td>\n",
       "      <td>4</td>\n",
       "      <td>40000.0</td>\n",
       "      <td>Charged Off</td>\n",
       "      <td>5.55</td>\n",
       "      <td>11.0</td>\n",
       "      <td>0.0</td>\n",
       "      <td>32.6</td>\n",
       "      <td>13.0</td>\n",
       "      <td>162.02</td>\n",
       "      <td>189.06</td>\n",
       "      <td>164.0</td>\n",
       "      <td>72.0</td>\n",
       "      <td>0</td>\n",
       "      <td>0</td>\n",
       "      <td>0</td>\n",
       "      <td>0</td>\n",
       "      <td>0</td>\n",
       "      <td>1</td>\n",
       "      <td>0</td>\n",
       "      <td>1</td>\n",
       "      <td>0</td>\n",
       "      <td>0</td>\n",
       "      <td>0</td>\n",
       "      <td>0</td>\n",
       "      <td>0</td>\n",
       "      <td>0</td>\n",
       "      <td>0</td>\n",
       "      <td>0</td>\n",
       "      <td>0</td>\n",
       "      <td>0</td>\n",
       "      <td>0</td>\n",
       "      <td>0</td>\n",
       "      <td>0</td>\n",
       "      <td>1</td>\n",
       "      <td>0</td>\n",
       "      <td>0</td>\n",
       "      <td>0</td>\n",
       "      <td>0</td>\n",
       "      <td>0</td>\n",
       "      <td>1</td>\n",
       "      <td>0</td>\n",
       "      <td>1</td>\n",
       "      <td>0</td>\n",
       "      <td>0.033761</td>\n",
       "      <td>0.971068</td>\n",
       "    </tr>\n",
       "    <tr>\n",
       "      <th>9</th>\n",
       "      <td>5375</td>\n",
       "      <td>5375</td>\n",
       "      <td>60</td>\n",
       "      <td>12.69</td>\n",
       "      <td>121.45</td>\n",
       "      <td>0</td>\n",
       "      <td>15000.0</td>\n",
       "      <td>Charged Off</td>\n",
       "      <td>18.08</td>\n",
       "      <td>2.0</td>\n",
       "      <td>0.0</td>\n",
       "      <td>36.5</td>\n",
       "      <td>3.0</td>\n",
       "      <td>673.48</td>\n",
       "      <td>269.29</td>\n",
       "      <td>159.0</td>\n",
       "      <td>72.0</td>\n",
       "      <td>0</td>\n",
       "      <td>1</td>\n",
       "      <td>0</td>\n",
       "      <td>0</td>\n",
       "      <td>0</td>\n",
       "      <td>0</td>\n",
       "      <td>0</td>\n",
       "      <td>0</td>\n",
       "      <td>0</td>\n",
       "      <td>0</td>\n",
       "      <td>1</td>\n",
       "      <td>0</td>\n",
       "      <td>0</td>\n",
       "      <td>0</td>\n",
       "      <td>0</td>\n",
       "      <td>0</td>\n",
       "      <td>0</td>\n",
       "      <td>0</td>\n",
       "      <td>0</td>\n",
       "      <td>1</td>\n",
       "      <td>0</td>\n",
       "      <td>0</td>\n",
       "      <td>0</td>\n",
       "      <td>0</td>\n",
       "      <td>0</td>\n",
       "      <td>0</td>\n",
       "      <td>0</td>\n",
       "      <td>0</td>\n",
       "      <td>1</td>\n",
       "      <td>0</td>\n",
       "      <td>1</td>\n",
       "      <td>0.050100</td>\n",
       "      <td>0.874701</td>\n",
       "    </tr>\n",
       "    <tr>\n",
       "      <th>12</th>\n",
       "      <td>9000</td>\n",
       "      <td>9000</td>\n",
       "      <td>36</td>\n",
       "      <td>13.49</td>\n",
       "      <td>305.38</td>\n",
       "      <td>0</td>\n",
       "      <td>30000.0</td>\n",
       "      <td>Charged Off</td>\n",
       "      <td>10.08</td>\n",
       "      <td>4.0</td>\n",
       "      <td>0.0</td>\n",
       "      <td>91.7</td>\n",
       "      <td>9.0</td>\n",
       "      <td>1256.14</td>\n",
       "      <td>444.30</td>\n",
       "      <td>164.0</td>\n",
       "      <td>72.0</td>\n",
       "      <td>0</td>\n",
       "      <td>0</td>\n",
       "      <td>1</td>\n",
       "      <td>0</td>\n",
       "      <td>0</td>\n",
       "      <td>0</td>\n",
       "      <td>0</td>\n",
       "      <td>0</td>\n",
       "      <td>0</td>\n",
       "      <td>0</td>\n",
       "      <td>0</td>\n",
       "      <td>0</td>\n",
       "      <td>1</td>\n",
       "      <td>0</td>\n",
       "      <td>0</td>\n",
       "      <td>0</td>\n",
       "      <td>0</td>\n",
       "      <td>0</td>\n",
       "      <td>0</td>\n",
       "      <td>0</td>\n",
       "      <td>0</td>\n",
       "      <td>0</td>\n",
       "      <td>0</td>\n",
       "      <td>0</td>\n",
       "      <td>0</td>\n",
       "      <td>0</td>\n",
       "      <td>0</td>\n",
       "      <td>0</td>\n",
       "      <td>1</td>\n",
       "      <td>1</td>\n",
       "      <td>0</td>\n",
       "      <td>0.049367</td>\n",
       "      <td>0.860429</td>\n",
       "    </tr>\n",
       "    <tr>\n",
       "      <th>14</th>\n",
       "      <td>10000</td>\n",
       "      <td>10000</td>\n",
       "      <td>36</td>\n",
       "      <td>10.65</td>\n",
       "      <td>325.74</td>\n",
       "      <td>3</td>\n",
       "      <td>100000.0</td>\n",
       "      <td>Charged Off</td>\n",
       "      <td>7.06</td>\n",
       "      <td>14.0</td>\n",
       "      <td>0.0</td>\n",
       "      <td>55.5</td>\n",
       "      <td>29.0</td>\n",
       "      <td>5433.47</td>\n",
       "      <td>645.10</td>\n",
       "      <td>319.0</td>\n",
       "      <td>72.0</td>\n",
       "      <td>0</td>\n",
       "      <td>1</td>\n",
       "      <td>0</td>\n",
       "      <td>0</td>\n",
       "      <td>0</td>\n",
       "      <td>0</td>\n",
       "      <td>0</td>\n",
       "      <td>1</td>\n",
       "      <td>0</td>\n",
       "      <td>0</td>\n",
       "      <td>0</td>\n",
       "      <td>0</td>\n",
       "      <td>0</td>\n",
       "      <td>0</td>\n",
       "      <td>0</td>\n",
       "      <td>0</td>\n",
       "      <td>0</td>\n",
       "      <td>0</td>\n",
       "      <td>0</td>\n",
       "      <td>1</td>\n",
       "      <td>0</td>\n",
       "      <td>0</td>\n",
       "      <td>0</td>\n",
       "      <td>0</td>\n",
       "      <td>0</td>\n",
       "      <td>0</td>\n",
       "      <td>0</td>\n",
       "      <td>0</td>\n",
       "      <td>1</td>\n",
       "      <td>1</td>\n",
       "      <td>0</td>\n",
       "      <td>0.064510</td>\n",
       "      <td>0.456653</td>\n",
       "    </tr>\n",
       "  </tbody>\n",
       "</table>\n",
       "</div>"
      ],
      "text/plain": [
       "    loan_amnt  funded_amnt  term  int_rate  installment  emp_length  \\\n",
       "1        2500         2500    60     15.27        59.83           0   \n",
       "8        5600         5600    60     21.28       152.39           4   \n",
       "9        5375         5375    60     12.69       121.45           0   \n",
       "12       9000         9000    36     13.49       305.38           0   \n",
       "14      10000        10000    36     10.65       325.74           3   \n",
       "\n",
       "    annual_inc  loan_status    dti  open_acc  pub_rec  revol_util  total_acc  \\\n",
       "1      30000.0  Charged Off   1.00       3.0      0.0         9.4        4.0   \n",
       "8      40000.0  Charged Off   5.55      11.0      0.0        32.6       13.0   \n",
       "9      15000.0  Charged Off  18.08       2.0      0.0        36.5        3.0   \n",
       "12     30000.0  Charged Off  10.08       4.0      0.0        91.7        9.0   \n",
       "14    100000.0  Charged Off   7.06      14.0      0.0        55.5       29.0   \n",
       "\n",
       "    total_rec_prncp  recoveries  mths_since_earliest_cr_line  \\\n",
       "1            456.46      117.08                        224.0   \n",
       "8            162.02      189.06                        164.0   \n",
       "9            673.48      269.29                        159.0   \n",
       "12          1256.14      444.30                        164.0   \n",
       "14          5433.47      645.10                        319.0   \n",
       "\n",
       "    mths_since_issue_d  good_bad  grade_B  grade_C  grade_D  grade_E  grade_F  \\\n",
       "1                 72.0         0        0        1        0        0        0   \n",
       "8                 72.0         0        0        0        0        0        1   \n",
       "9                 72.0         0        1        0        0        0        0   \n",
       "12                72.0         0        0        1        0        0        0   \n",
       "14                72.0         0        1        0        0        0        0   \n",
       "\n",
       "    grade_G  sub_grade_2  sub_grade_3  sub_grade_4  sub_grade_5  \\\n",
       "1         0            0            0            1            0   \n",
       "8         0            1            0            0            0   \n",
       "9         0            0            0            0            1   \n",
       "12        0            0            0            0            0   \n",
       "14        0            1            0            0            0   \n",
       "\n",
       "    purpose_credit_card  purpose_debt_consolidation  purpose_educational  \\\n",
       "1                     0                           0                    0   \n",
       "8                     0                           0                    0   \n",
       "9                     0                           0                    0   \n",
       "12                    0                           1                    0   \n",
       "14                    0                           0                    0   \n",
       "\n",
       "    purpose_home_improvement  purpose_house  purpose_major_purchase  \\\n",
       "1                          0              0                       0   \n",
       "8                          0              0                       0   \n",
       "9                          0              0                       0   \n",
       "12                         0              0                       0   \n",
       "14                         0              0                       0   \n",
       "\n",
       "    purpose_medical  purpose_moving  purpose_other  purpose_renewable_energy  \\\n",
       "1                 0               0              0                         0   \n",
       "8                 0               0              0                         0   \n",
       "9                 0               0              1                         0   \n",
       "12                0               0              0                         0   \n",
       "14                0               0              1                         0   \n",
       "\n",
       "    purpose_small_business  purpose_vacation  purpose_wedding  \\\n",
       "1                        0                 0                0   \n",
       "8                        1                 0                0   \n",
       "9                        0                 0                0   \n",
       "12                       0                 0                0   \n",
       "14                       0                 0                0   \n",
       "\n",
       "    home_ownership_MORTGAGE  home_ownership_NONE  home_ownership_OTHER  \\\n",
       "1                         0                    0                     0   \n",
       "8                         0                    0                     0   \n",
       "9                         0                    0                     0   \n",
       "12                        0                    0                     0   \n",
       "14                        0                    0                     0   \n",
       "\n",
       "    home_ownership_OWN  home_ownership_RENT  \\\n",
       "1                    0                    1   \n",
       "8                    1                    0   \n",
       "9                    0                    1   \n",
       "12                   0                    1   \n",
       "14                   0                    1   \n",
       "\n",
       "    verification_status_Source Verified  verification_status_Verified  \\\n",
       "1                                     1                             0   \n",
       "8                                     1                             0   \n",
       "9                                     0                             1   \n",
       "12                                    1                             0   \n",
       "14                                    1                             0   \n",
       "\n",
       "    recovery_rate       CCF  \n",
       "1        0.046832  0.817416  \n",
       "8        0.033761  0.971068  \n",
       "9        0.050100  0.874701  \n",
       "12       0.049367  0.860429  \n",
       "14       0.064510  0.456653  "
      ]
     },
     "execution_count": 12,
     "metadata": {},
     "output_type": "execute_result"
    }
   ],
   "source": [
    "loan_data_defaults.head()"
   ]
  },
  {
   "cell_type": "code",
   "execution_count": 13,
   "metadata": {},
   "outputs": [],
   "source": [
    "loan_data_defaults.to_csv('loan_data_defaults.csv')\n",
    "# We save the data to a CSV file."
   ]
  },
  {
   "cell_type": "markdown",
   "metadata": {},
   "source": [
    "# Explore Dependent Variables"
   ]
  },
  {
   "cell_type": "code",
   "execution_count": 14,
   "metadata": {},
   "outputs": [],
   "source": [
    "import matplotlib.pyplot as plt\n",
    "import seaborn as sns\n",
    "sns.set()"
   ]
  },
  {
   "cell_type": "code",
   "execution_count": 15,
   "metadata": {},
   "outputs": [
    {
     "data": {
      "text/plain": [
       "(array([2.0466e+04, 1.7790e+03, 3.7730e+03, 1.3480e+03, 2.0800e+03,\n",
       "        3.2450e+03, 4.5770e+03, 1.6470e+03, 1.1410e+03, 3.9800e+02,\n",
       "        3.2800e+02, 2.6500e+02, 1.1300e+02, 9.2000e+01, 7.6000e+01,\n",
       "        6.9000e+01, 5.3000e+01, 6.9000e+01, 5.2000e+01, 2.9000e+01,\n",
       "        4.5000e+01, 2.6000e+01, 1.6000e+01, 1.5000e+01, 1.9000e+01,\n",
       "        2.3000e+01, 1.7000e+01, 7.0000e+00, 1.0000e+01, 7.0000e+00,\n",
       "        8.0000e+00, 7.0000e+00, 6.0000e+00, 8.0000e+00, 6.0000e+00,\n",
       "        8.0000e+00, 6.0000e+00, 1.0000e+01, 9.0000e+00, 8.0000e+00,\n",
       "        6.0000e+00, 6.0000e+00, 6.0000e+00, 3.0000e+00, 8.0000e+00,\n",
       "        9.0000e+00, 1.5000e+01, 8.0000e+00, 9.0000e+00, 3.1000e+01]),\n",
       " array([0.  , 0.02, 0.04, 0.06, 0.08, 0.1 , 0.12, 0.14, 0.16, 0.18, 0.2 ,\n",
       "        0.22, 0.24, 0.26, 0.28, 0.3 , 0.32, 0.34, 0.36, 0.38, 0.4 , 0.42,\n",
       "        0.44, 0.46, 0.48, 0.5 , 0.52, 0.54, 0.56, 0.58, 0.6 , 0.62, 0.64,\n",
       "        0.66, 0.68, 0.7 , 0.72, 0.74, 0.76, 0.78, 0.8 , 0.82, 0.84, 0.86,\n",
       "        0.88, 0.9 , 0.92, 0.94, 0.96, 0.98, 1.  ]),\n",
       " <BarContainer object of 50 artists>)"
      ]
     },
     "execution_count": 15,
     "metadata": {},
     "output_type": "execute_result"
    },
    {
     "data": {
      "image/png": "[encoded data removed]",
      "text/plain": [
       "<Figure size 432x288 with 1 Axes>"
      ]
     },
     "metadata": {},
     "output_type": "display_data"
    }
   ],
   "source": [
    "plt.hist(loan_data_defaults['recovery_rate'], bins = 50)\n",
    "# We plot a histogram of a variable with 50 bins."
   ]
  },
  {
   "cell_type": "code",
   "execution_count": 16,
   "metadata": {},
   "outputs": [
    {
     "data": {
      "text/plain": [
       "(array([   3.,   16.,   15.,   44.,   16.,   13.,   68.,   26.,    7.,\n",
       "          62.,   64.,   16.,   57.,   87.,   22.,   54.,   82.,   41.,\n",
       "          47.,  120.,   81.,   68.,  119.,   85.,   86.,  104.,  114.,\n",
       "         109.,  120.,  118.,  132.,  136.,  154.,  140.,  157.,  173.,\n",
       "         145.,  183.,  194.,  171.,  199.,  205.,  207.,  206.,  232.,\n",
       "         259.,  276.,  219.,  300.,  257.,  278.,  291.,  332.,  267.,\n",
       "         356.,  357.,  375.,  357.,  382.,  406.,  403.,  421.,  430.,\n",
       "         487.,  464.,  463.,  544.,  550.,  587.,  604.,  710.,  667.,\n",
       "         606.,  781.,  789.,  760.,  849.,  828.,  888.,  916.,  897.,\n",
       "        1053.,  906., 1184., 1006., 1035., 1302., 1013., 1326., 1038.,\n",
       "        1360., 1254.,  926., 1364.,  771., 1266.,  556.,  915.,  330.,\n",
       "         503.]),\n",
       " array([4.3800000e-04, 1.0433620e-02, 2.0429240e-02, 3.0424860e-02,\n",
       "        4.0420480e-02, 5.0416100e-02, 6.0411720e-02, 7.0407340e-02,\n",
       "        8.0402960e-02, 9.0398580e-02, 1.0039420e-01, 1.1038982e-01,\n",
       "        1.2038544e-01, 1.3038106e-01, 1.4037668e-01, 1.5037230e-01,\n",
       "        1.6036792e-01, 1.7036354e-01, 1.8035916e-01, 1.9035478e-01,\n",
       "        2.0035040e-01, 2.1034602e-01, 2.2034164e-01, 2.3033726e-01,\n",
       "        2.4033288e-01, 2.5032850e-01, 2.6032412e-01, 2.7031974e-01,\n",
       "        2.8031536e-01, 2.9031098e-01, 3.0030660e-01, 3.1030222e-01,\n",
       "        3.2029784e-01, 3.3029346e-01, 3.4028908e-01, 3.5028470e-01,\n",
       "        3.6028032e-01, 3.7027594e-01, 3.8027156e-01, 3.9026718e-01,\n",
       "        4.0026280e-01, 4.1025842e-01, 4.2025404e-01, 4.3024966e-01,\n",
       "        4.4024528e-01, 4.5024090e-01, 4.6023652e-01, 4.7023214e-01,\n",
       "        4.8022776e-01, 4.9022338e-01, 5.0021900e-01, 5.1021462e-01,\n",
       "        5.2021024e-01, 5.3020586e-01, 5.4020148e-01, 5.5019710e-01,\n",
       "        5.6019272e-01, 5.7018834e-01, 5.8018396e-01, 5.9017958e-01,\n",
       "        6.0017520e-01, 6.1017082e-01, 6.2016644e-01, 6.3016206e-01,\n",
       "        6.4015768e-01, 6.5015330e-01, 6.6014892e-01, 6.7014454e-01,\n",
       "        6.8014016e-01, 6.9013578e-01, 7.0013140e-01, 7.1012702e-01,\n",
       "        7.2012264e-01, 7.3011826e-01, 7.4011388e-01, 7.5010950e-01,\n",
       "        7.6010512e-01, 7.7010074e-01, 7.8009636e-01, 7.9009198e-01,\n",
       "        8.0008760e-01, 8.1008322e-01, 8.2007884e-01, 8.3007446e-01,\n",
       "        8.4007008e-01, 8.5006570e-01, 8.6006132e-01, 8.7005694e-01,\n",
       "        8.8005256e-01, 8.9004818e-01, 9.0004380e-01, 9.1003942e-01,\n",
       "        9.2003504e-01, 9.3003066e-01, 9.4002628e-01, 9.5002190e-01,\n",
       "        9.6001752e-01, 9.7001314e-01, 9.8000876e-01, 9.9000438e-01,\n",
       "        1.0000000e+00]),\n",
       " <BarContainer object of 100 artists>)"
      ]
     },
     "execution_count": 16,
     "metadata": {},
     "output_type": "execute_result"
    },
    {
     "data": {
      "image/png": "[encoded data removed]",
      "text/plain": [
       "<Figure size 432x288 with 1 Axes>"
      ]
     },
     "metadata": {},
     "output_type": "display_data"
    }
   ],
   "source": [
    "plt.hist(loan_data_defaults['CCF'], bins = 100)\n",
    "# We plot a histogram of a variable with 100 bins."
   ]
  },
  {
   "cell_type": "code",
   "execution_count": 17,
   "metadata": {},
   "outputs": [],
   "source": [
    "loan_data_defaults['recovery_rate_0_1'] = np.where(loan_data_defaults['recovery_rate'] == 0, 0, 1)\n",
    "# We create a new variable which is 0 if recovery rate is 0 and 1 otherwise."
   ]
  },
  {
   "cell_type": "markdown",
   "metadata": {},
   "source": [
    "# EAD Model"
   ]
  },
  {
   "cell_type": "markdown",
   "metadata": {},
   "source": [
    "### Estimation and Interpretation"
   ]
  },
  {
   "cell_type": "markdown",
   "metadata": {},
   "source": [
    "As a benchmark model, we have used used a linear regression model. After which we will go on to look at using SVM and neural networks to calculate the best credit conversion factor for our exposure of default. We have used neural networks in our calculations based on recommendations from research papers looking into this subject. However, we have done a very vanilla one layer version of neural network in this project instead of a 3 component layer nueral network using WOE transformed variables cited in the paper. Given more time, computational power, would also explore into applying WOE and information theory into our models as it is supposed to give added macroeconomic depth to our models. Also, similar to LGD, it is suggested that the number of variables used in the model also affects the efficacy of the model, hence also something additional to explore."
   ]
  },
  {
   "cell_type": "markdown",
   "metadata": {},
   "source": [
    "source:https://www.researchgate.net/publication/290000490_Modelling_exposure_at_default_and_loss_given_default_Empirical_approaches_and_technical_implementation"
   ]
  },
  {
   "cell_type": "code",
   "execution_count": 18,
   "metadata": {},
   "outputs": [],
   "source": [
    "# EAD model datasets\n",
    "X_train, X_test, y_train, y_test = train_test_split(loan_data_defaults.drop(['good_bad', 'recovery_rate','recovery_rate_0_1', 'CCF','loan_status'], axis = 1), loan_data_defaults['CCF'], test_size = 0.2, random_state = 42)\n",
    "# Takes a set of inputs and a set of targets as arguments. Splits the inputs and the targets into four dataframes:\n",
    "# Inputs - Train, Inputs - Test, Targets - Train, Targets - Test."
   ]
  },
  {
   "cell_type": "code",
   "execution_count": 19,
   "metadata": {},
   "outputs": [],
   "source": [
    "ss=StandardScaler()\n",
    "\n",
    "\n",
    "#transform and create into a dataframe with column\n",
    "X_train=ss.fit_transform(X_train)\n",
    "\n",
    "# Transform.\n",
    "X_test=ss.transform(X_test)"
   ]
  },
  {
   "cell_type": "code",
   "execution_count": 20,
   "metadata": {},
   "outputs": [],
   "source": [
    "from sklearn.linear_model import LinearRegression, LassoCV, RidgeCV, Ridge, Lasso\n",
    "from sklearn.preprocessing import StandardScaler\n",
    "from sklearn.metrics import r2_score,mean_squared_error"
   ]
  },
  {
   "cell_type": "code",
   "execution_count": 21,
   "metadata": {},
   "outputs": [],
   "source": [
    "reg_ead = LinearRegression()\n",
    "ridge_model = RidgeCV(alphas=np.linspace(.1, 10, 100))\n",
    "lasso_model = LassoCV(alphas=np.linspace(.1, 10, 100))\n"
   ]
  },
  {
   "cell_type": "code",
   "execution_count": 22,
   "metadata": {},
   "outputs": [
    {
     "data": {
      "text/plain": [
       "LinearRegression()"
      ]
     },
     "execution_count": 22,
     "metadata": {},
     "output_type": "execute_result"
    }
   ],
   "source": [
    "reg_ead.fit(X_train,y_train)\n",
    "# Estimates the coefficients of the object from the 'LogisticRegression' class\n",
    "# with inputs (independent variables) contained in the first dataframe\n",
    "# and targets (dependent variables) contained in the second dataframe."
   ]
  },
  {
   "cell_type": "code",
   "execution_count": 23,
   "metadata": {},
   "outputs": [
    {
     "name": "stdout",
     "output_type": "stream",
     "text": [
      "train r2: 0.7578802186256149\n",
      "validation r2: 0.7590909638333669\n"
     ]
    }
   ],
   "source": [
    "print(\"train r2:\",reg_ead.score(X_train,y_train))\n",
    "print(\"validation r2:\",reg_ead.score(X_test,y_test))"
   ]
  },
  {
   "cell_type": "code",
   "execution_count": 24,
   "metadata": {},
   "outputs": [],
   "source": [
    "r_alpha=np.logspace(0,5,100)\n",
    "\n",
    "\n",
    "# Cross-validate over our list of ridge alphas.\n",
    "\n",
    "ridge_cv=RidgeCV(alphas=r_alpha,scoring='r2',cv=5)\n",
    "\n",
    "# Fit model using best ridge alpha!\n",
    "ridge_cv=ridge_model.fit(X_train,y_train)"
   ]
  },
  {
   "cell_type": "code",
   "execution_count": 25,
   "metadata": {},
   "outputs": [
    {
     "data": {
      "text/plain": [
       "2.4000000000000004"
      ]
     },
     "execution_count": 25,
     "metadata": {},
     "output_type": "execute_result"
    }
   ],
   "source": [
    "ridge_cv.alpha_"
   ]
  },
  {
   "cell_type": "code",
   "execution_count": 26,
   "metadata": {},
   "outputs": [
    {
     "name": "stdout",
     "output_type": "stream",
     "text": [
      "train r2: 0.7578797870999772\n",
      "validation r2: 0.7590980222503207\n"
     ]
    }
   ],
   "source": [
    "print(\"train r2:\",ridge_cv.score(X_train,y_train))\n",
    "print(\"validation r2:\",ridge_cv.score(X_test,y_test))"
   ]
  },
  {
   "cell_type": "code",
   "execution_count": 27,
   "metadata": {},
   "outputs": [
    {
     "data": {
      "text/plain": [
       "LassoCV(alphas=array([1.00000000e-03, 1.09749877e-03, 1.20450354e-03, 1.32194115e-03,\n",
       "       1.45082878e-03, 1.59228279e-03, 1.74752840e-03, 1.91791026e-03,\n",
       "       2.10490414e-03, 2.31012970e-03, 2.53536449e-03, 2.78255940e-03,\n",
       "       3.05385551e-03, 3.35160265e-03, 3.67837977e-03, 4.03701726e-03,\n",
       "       4.43062146e-03, 4.86260158e-03, 5.33669923e-03, 5.85702082e-03,\n",
       "       6.42807312e-03, 7.05480231e-0...\n",
       "       1.17681195e+00, 1.29154967e+00, 1.41747416e+00, 1.55567614e+00,\n",
       "       1.70735265e+00, 1.87381742e+00, 2.05651231e+00, 2.25701972e+00,\n",
       "       2.47707636e+00, 2.71858824e+00, 2.98364724e+00, 3.27454916e+00,\n",
       "       3.59381366e+00, 3.94420606e+00, 4.32876128e+00, 4.75081016e+00,\n",
       "       5.21400829e+00, 5.72236766e+00, 6.28029144e+00, 6.89261210e+00,\n",
       "       7.56463328e+00, 8.30217568e+00, 9.11162756e+00, 1.00000000e+01]),\n",
       "        cv=5, max_iter=5000)"
      ]
     },
     "execution_count": 27,
     "metadata": {},
     "output_type": "execute_result"
    }
   ],
   "source": [
    "l_alphas=np.logspace(-3,1,100)\n",
    "# Cross-validate over our list of Lasso alphas.cv is number of folds\n",
    "lasso_cv=LassoCV(alphas=l_alphas,cv=5, max_iter=5000)\n",
    "# Fit model using best ridge alpha!\n",
    "lasso_cv.fit(X_train,y_train)"
   ]
  },
  {
   "cell_type": "code",
   "execution_count": 28,
   "metadata": {},
   "outputs": [
    {
     "data": {
      "text/plain": [
       "array([1.00000000e+01, 9.11162756e+00, 8.30217568e+00, 7.56463328e+00,\n",
       "       6.89261210e+00, 6.28029144e+00, 5.72236766e+00, 5.21400829e+00,\n",
       "       4.75081016e+00, 4.32876128e+00, 3.94420606e+00, 3.59381366e+00,\n",
       "       3.27454916e+00, 2.98364724e+00, 2.71858824e+00, 2.47707636e+00,\n",
       "       2.25701972e+00, 2.05651231e+00, 1.87381742e+00, 1.70735265e+00,\n",
       "       1.55567614e+00, 1.41747416e+00, 1.29154967e+00, 1.17681195e+00,\n",
       "       1.07226722e+00, 9.77009957e-01, 8.90215085e-01, 8.11130831e-01,\n",
       "       7.39072203e-01, 6.73415066e-01, 6.13590727e-01, 5.59081018e-01,\n",
       "       5.09413801e-01, 4.64158883e-01, 4.22924287e-01, 3.85352859e-01,\n",
       "       3.51119173e-01, 3.19926714e-01, 2.91505306e-01, 2.65608778e-01,\n",
       "       2.42012826e-01, 2.20513074e-01, 2.00923300e-01, 1.83073828e-01,\n",
       "       1.66810054e-01, 1.51991108e-01, 1.38488637e-01, 1.26185688e-01,\n",
       "       1.14975700e-01, 1.04761575e-01, 9.54548457e-02, 8.69749003e-02,\n",
       "       7.92482898e-02, 7.22080902e-02, 6.57933225e-02, 5.99484250e-02,\n",
       "       5.46227722e-02, 4.97702356e-02, 4.53487851e-02, 4.13201240e-02,\n",
       "       3.76493581e-02, 3.43046929e-02, 3.12571585e-02, 2.84803587e-02,\n",
       "       2.59502421e-02, 2.36448941e-02, 2.15443469e-02, 1.96304065e-02,\n",
       "       1.78864953e-02, 1.62975083e-02, 1.48496826e-02, 1.35304777e-02,\n",
       "       1.23284674e-02, 1.12332403e-02, 1.02353102e-02, 9.32603347e-03,\n",
       "       8.49753436e-03, 7.74263683e-03, 7.05480231e-03, 6.42807312e-03,\n",
       "       5.85702082e-03, 5.33669923e-03, 4.86260158e-03, 4.43062146e-03,\n",
       "       4.03701726e-03, 3.67837977e-03, 3.35160265e-03, 3.05385551e-03,\n",
       "       2.78255940e-03, 2.53536449e-03, 2.31012970e-03, 2.10490414e-03,\n",
       "       1.91791026e-03, 1.74752840e-03, 1.59228279e-03, 1.45082878e-03,\n",
       "       1.32194115e-03, 1.20450354e-03, 1.09749877e-03, 1.00000000e-03])"
      ]
     },
     "execution_count": 28,
     "metadata": {},
     "output_type": "execute_result"
    }
   ],
   "source": [
    "lasso_cv.alphas_"
   ]
  },
  {
   "cell_type": "code",
   "execution_count": 29,
   "metadata": {},
   "outputs": [
    {
     "name": "stdout",
     "output_type": "stream",
     "text": [
      "train r2: 0.7528995201496521\n",
      "validation r2: 0.7547635631226378\n"
     ]
    }
   ],
   "source": [
    "print(\"train r2:\",lasso_cv.score(X_train,y_train))\n",
    "print(\"validation r2:\",lasso_cv.score(X_test,y_test))"
   ]
  },
  {
   "cell_type": "markdown",
   "metadata": {},
   "source": [
    "## Support Vector Machines(SVM) with Grid Search CV"
   ]
  },
  {
   "cell_type": "code",
   "execution_count": 30,
   "metadata": {},
   "outputs": [],
   "source": [
    "from sklearn import svm\n",
    "from sklearn.svm import SVR"
   ]
  },
  {
   "cell_type": "markdown",
   "metadata": {},
   "source": [
    "In this implementation, we use the rbf kernel of the SVR model. rbf stands for the radial basis function. It introduces some form of non-linearity to the model since the data in use is non-linear. By this, we mean that the data arrangement follows no specific sequence."
   ]
  },
  {
   "cell_type": "code",
   "execution_count": 31,
   "metadata": {},
   "outputs": [],
   "source": [
    "grid = GridSearchCV(\n",
    "\n",
    "estimator=SVR(kernel='rbf'),\n",
    "        param_grid={\n",
    "            'C': np.linspace(0.0001, 2, 10)\n",
    "        },\n",
    "        cv=5,  verbose=0, n_jobs=-1)"
   ]
  },
  {
   "cell_type": "code",
   "execution_count": 32,
   "metadata": {},
   "outputs": [
    {
     "data": {
      "text/plain": [
       "GridSearchCV(cv=5, estimator=SVR(), n_jobs=-1,\n",
       "             param_grid={'C': array([1.00000000e-04, 2.22311111e-01, 4.44522222e-01, 6.66733333e-01,\n",
       "       8.88944444e-01, 1.11115556e+00, 1.33336667e+00, 1.55557778e+00,\n",
       "       1.77778889e+00, 2.00000000e+00])})"
      ]
     },
     "execution_count": 32,
     "metadata": {},
     "output_type": "execute_result"
    }
   ],
   "source": [
    "grid.fit(X_train,y_train)"
   ]
  },
  {
   "cell_type": "code",
   "execution_count": 33,
   "metadata": {},
   "outputs": [
    {
     "name": "stdout",
     "output_type": "stream",
     "text": [
      "best parameters are:  {'C': 2.0}\n"
     ]
    }
   ],
   "source": [
    "print(\"best parameters are: \", grid.best_params_)"
   ]
  },
  {
   "cell_type": "code",
   "execution_count": 34,
   "metadata": {},
   "outputs": [
    {
     "data": {
      "text/plain": [
       "0.9392050872672304"
      ]
     },
     "execution_count": 34,
     "metadata": {},
     "output_type": "execute_result"
    }
   ],
   "source": [
    "grid.score(X_train, y_train)"
   ]
  },
  {
   "cell_type": "code",
   "execution_count": 35,
   "metadata": {},
   "outputs": [
    {
     "data": {
      "text/plain": [
       "0.9033425431322345"
      ]
     },
     "execution_count": 35,
     "metadata": {},
     "output_type": "execute_result"
    }
   ],
   "source": [
    "grid.score(X_test, y_test)"
   ]
  },
  {
   "cell_type": "markdown",
   "metadata": {},
   "source": [
    "## Neural Networks"
   ]
  },
  {
   "cell_type": "code",
   "execution_count": 36,
   "metadata": {},
   "outputs": [],
   "source": [
    "from tensorflow.keras.models import Sequential\n",
    "from tensorflow.keras.layers import Dense\n",
    "from tensorflow.keras.utils import to_categorical"
   ]
  },
  {
   "cell_type": "code",
   "execution_count": 37,
   "metadata": {},
   "outputs": [],
   "source": [
    "model = Sequential()\n",
    "model.add(Dense(32, # How many neurons do you want in your first layer.\n",
    "                input_shape=(46,),\n",
    "                activation='relu'))\n",
    "model.add(Dense(1))"
   ]
  },
  {
   "cell_type": "code",
   "execution_count": 40,
   "metadata": {},
   "outputs": [],
   "source": [
    "model.compile(loss='mse', optimizer='adam', metrics=['mae'])"
   ]
  },
  {
   "cell_type": "code",
   "execution_count": 41,
   "metadata": {},
   "outputs": [
    {
     "name": "stdout",
     "output_type": "stream",
     "text": [
      "Epoch 1/10\n",
      "66/66 [==============================] - 1s 4ms/step - loss: 0.1727 - mae: 0.3012 - val_loss: 0.0699 - val_mae: 0.2048\n",
      "Epoch 2/10\n",
      "66/66 [==============================] - 0s 2ms/step - loss: 0.0530 - mae: 0.1760 - val_loss: 0.0397 - val_mae: 0.1531\n",
      "Epoch 3/10\n",
      "66/66 [==============================] - 0s 3ms/step - loss: 0.0326 - mae: 0.1366 - val_loss: 0.0267 - val_mae: 0.1240\n",
      "Epoch 4/10\n",
      "66/66 [==============================] - 0s 2ms/step - loss: 0.0230 - mae: 0.1140 - val_loss: 0.0202 - val_mae: 0.1064\n",
      "Epoch 5/10\n",
      "66/66 [==============================] - 0s 2ms/step - loss: 0.0179 - mae: 0.0996 - val_loss: 0.0163 - val_mae: 0.0945\n",
      "Epoch 6/10\n",
      "66/66 [==============================] - 0s 2ms/step - loss: 0.0146 - mae: 0.0893 - val_loss: 0.0135 - val_mae: 0.0858\n",
      "Epoch 7/10\n",
      "66/66 [==============================] - 0s 1ms/step - loss: 0.0124 - mae: 0.0821 - val_loss: 0.0119 - val_mae: 0.0796\n",
      "Epoch 8/10\n",
      "66/66 [==============================] - 0s 2ms/step - loss: 0.0109 - mae: 0.0766 - val_loss: 0.0105 - val_mae: 0.0743\n",
      "Epoch 9/10\n",
      "66/66 [==============================] - 0s 1ms/step - loss: 0.0096 - mae: 0.0718 - val_loss: 0.0094 - val_mae: 0.0703\n",
      "Epoch 10/10\n",
      "66/66 [==============================] - 0s 2ms/step - loss: 0.0087 - mae: 0.0680 - val_loss: 0.0085 - val_mae: 0.0667\n"
     ]
    }
   ],
   "source": [
    "history=model.fit(X_train, y_train, validation_data=(X_test, y_test), epochs=10, batch_size=512)"
   ]
  },
  {
   "cell_type": "code",
   "execution_count": 42,
   "metadata": {},
   "outputs": [
    {
     "data": {
      "text/plain": [
       "array([[0.60626376],\n",
       "       [0.81451803],\n",
       "       [0.8016593 ],\n",
       "       ...,\n",
       "       [0.9896458 ],\n",
       "       [0.59975004],\n",
       "       [0.66020477]], dtype=float32)"
      ]
     },
     "execution_count": 42,
     "metadata": {},
     "output_type": "execute_result"
    }
   ],
   "source": [
    "model.predict(X_test)"
   ]
  },
  {
   "cell_type": "code",
   "execution_count": 43,
   "metadata": {},
   "outputs": [
    {
     "data": {
      "image/png": "[encoded data removed]",
      "text/plain": [
       "<Figure size 864x576 with 1 Axes>"
      ]
     },
     "metadata": {},
     "output_type": "display_data"
    }
   ],
   "source": [
    "train_loss = history.history['loss']\n",
    "test_loss = history.history['val_loss']\n",
    "plt.figure(figsize=(12, 8))\n",
    "plt.plot(train_loss, label='Training loss', color='navy')\n",
    "plt.plot(test_loss, label='Testing loss', color='skyblue')\n",
    "plt.legend();"
   ]
  },
  {
   "cell_type": "markdown",
   "metadata": {},
   "source": [
    "Out of the few models we have used above to model EAD, we can see that utilising Neural networks have the best performance  where loss and mean error is  minimal. SVM is also a good model as we can see a score of 0.90~ for both the training set and testing set. This shows no overfit and the scores are significantly higher than that of linear regression. This model will be the best to use to calculate exposure at default(i.e total value a bank is exposed to when a loan defaults). With more time and computational power, would look to tune more hypermaraters for SVM such as epsilon and adding more layers to my neural netowrk."
   ]
  }
 ],
 "metadata": {
  "kernelspec": {
   "display_name": "Python 3",
   "language": "python",
   "name": "python3"
  },
  "language_info": {
   "codemirror_mode": {
    "name": "ipython",
    "version": 3
   },
   "file_extension": ".py",
   "mimetype": "text/x-python",
   "name": "python",
   "nbconvert_exporter": "python",
   "pygments_lexer": "ipython3",
   "version": "3.8.5"
  }
 },
 "nbformat": 4,
 "nbformat_minor": 2
}
